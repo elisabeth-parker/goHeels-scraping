{
 "cells": [
  {
   "cell_type": "code",
   "execution_count": 43,
   "metadata": {},
   "outputs": [],
   "source": [
    "# jump to input 234 to pick up from previous file\n",
    "# add imports for decoding json and regex\n",
    "import json\n",
    "import re\n",
    "\n",
    "import requests\n",
    "import scrapy\n",
    "\n"
   ]
  },
  {
   "cell_type": "code",
   "execution_count": 44,
   "metadata": {},
   "outputs": [
    {
     "ename": "InvalidHeader",
     "evalue": "Value for header {User-Agent: {'User-Agent': 'UNC Journo Class'}} must be of type str or bytes, not <class 'dict'>",
     "output_type": "error",
     "traceback": [
      "\u001b[0;31m\u001b[0m",
      "\u001b[0;31mTypeError\u001b[0mTraceback (most recent call last)",
      "\u001b[0;32m/usr/lib/python3.6/site-packages/requests/utils.py\u001b[0m in \u001b[0;36mcheck_header_validity\u001b[0;34m(header)\u001b[0m\n\u001b[1;32m    867\u001b[0m     \u001b[0;32mtry\u001b[0m\u001b[0;34m:\u001b[0m\u001b[0;34m\u001b[0m\u001b[0m\n\u001b[0;32m--> 868\u001b[0;31m         \u001b[0;32mif\u001b[0m \u001b[0;32mnot\u001b[0m \u001b[0mpat\u001b[0m\u001b[0;34m.\u001b[0m\u001b[0mmatch\u001b[0m\u001b[0;34m(\u001b[0m\u001b[0mvalue\u001b[0m\u001b[0;34m)\u001b[0m\u001b[0;34m:\u001b[0m\u001b[0;34m\u001b[0m\u001b[0m\n\u001b[0m\u001b[1;32m    869\u001b[0m             \u001b[0;32mraise\u001b[0m \u001b[0mInvalidHeader\u001b[0m\u001b[0;34m(\u001b[0m\u001b[0;34m\"Invalid return character or leading space in header: %s\"\u001b[0m \u001b[0;34m%\u001b[0m \u001b[0mname\u001b[0m\u001b[0;34m)\u001b[0m\u001b[0;34m\u001b[0m\u001b[0m\n",
      "\u001b[0;31mTypeError\u001b[0m: expected string or bytes-like object",
      "\nDuring handling of the above exception, another exception occurred:\n",
      "\u001b[0;31mInvalidHeader\u001b[0mTraceback (most recent call last)",
      "\u001b[0;32m<ipython-input-44-3904b9c707aa>\u001b[0m in \u001b[0;36m<module>\u001b[0;34m()\u001b[0m\n\u001b[1;32m      2\u001b[0m \u001b[0murl\u001b[0m \u001b[0;34m=\u001b[0m \u001b[0;34m\"http://goheels.com/roster.aspx?path=mbball\"\u001b[0m\u001b[0;34m\u001b[0m\u001b[0m\n\u001b[1;32m      3\u001b[0m \u001b[0mheaders\u001b[0m \u001b[0;34m=\u001b[0m \u001b[0;34m{\u001b[0m\u001b[0;34m'User-Agent'\u001b[0m\u001b[0;34m:\u001b[0m \u001b[0;34m'UNC Journo Class'\u001b[0m\u001b[0;34m}\u001b[0m\u001b[0;34m\u001b[0m\u001b[0m\n\u001b[0;32m----> 4\u001b[0;31m \u001b[0mresp\u001b[0m \u001b[0;34m=\u001b[0m \u001b[0mrequests\u001b[0m\u001b[0;34m.\u001b[0m\u001b[0mget\u001b[0m\u001b[0;34m(\u001b[0m\u001b[0murl\u001b[0m\u001b[0;34m,\u001b[0m \u001b[0mheaders\u001b[0m\u001b[0;34m=\u001b[0m\u001b[0;34m{\u001b[0m\u001b[0;34m'User-Agent'\u001b[0m\u001b[0;34m:\u001b[0m \u001b[0mheaders\u001b[0m\u001b[0;34m}\u001b[0m\u001b[0;34m,\u001b[0m\u001b[0;34m)\u001b[0m\u001b[0;34m\u001b[0m\u001b[0m\n\u001b[0m",
      "\u001b[0;32m/usr/lib/python3.6/site-packages/requests/api.py\u001b[0m in \u001b[0;36mget\u001b[0;34m(url, params, **kwargs)\u001b[0m\n\u001b[1;32m     70\u001b[0m \u001b[0;34m\u001b[0m\u001b[0m\n\u001b[1;32m     71\u001b[0m     \u001b[0mkwargs\u001b[0m\u001b[0;34m.\u001b[0m\u001b[0msetdefault\u001b[0m\u001b[0;34m(\u001b[0m\u001b[0;34m'allow_redirects'\u001b[0m\u001b[0;34m,\u001b[0m \u001b[0;32mTrue\u001b[0m\u001b[0;34m)\u001b[0m\u001b[0;34m\u001b[0m\u001b[0m\n\u001b[0;32m---> 72\u001b[0;31m     \u001b[0;32mreturn\u001b[0m \u001b[0mrequest\u001b[0m\u001b[0;34m(\u001b[0m\u001b[0;34m'get'\u001b[0m\u001b[0;34m,\u001b[0m \u001b[0murl\u001b[0m\u001b[0;34m,\u001b[0m \u001b[0mparams\u001b[0m\u001b[0;34m=\u001b[0m\u001b[0mparams\u001b[0m\u001b[0;34m,\u001b[0m \u001b[0;34m**\u001b[0m\u001b[0mkwargs\u001b[0m\u001b[0;34m)\u001b[0m\u001b[0;34m\u001b[0m\u001b[0m\n\u001b[0m\u001b[1;32m     73\u001b[0m \u001b[0;34m\u001b[0m\u001b[0m\n\u001b[1;32m     74\u001b[0m \u001b[0;34m\u001b[0m\u001b[0m\n",
      "\u001b[0;32m/usr/lib/python3.6/site-packages/requests/api.py\u001b[0m in \u001b[0;36mrequest\u001b[0;34m(method, url, **kwargs)\u001b[0m\n\u001b[1;32m     56\u001b[0m     \u001b[0;31m# cases, and look like a memory leak in others.\u001b[0m\u001b[0;34m\u001b[0m\u001b[0;34m\u001b[0m\u001b[0m\n\u001b[1;32m     57\u001b[0m     \u001b[0;32mwith\u001b[0m \u001b[0msessions\u001b[0m\u001b[0;34m.\u001b[0m\u001b[0mSession\u001b[0m\u001b[0;34m(\u001b[0m\u001b[0;34m)\u001b[0m \u001b[0;32mas\u001b[0m \u001b[0msession\u001b[0m\u001b[0;34m:\u001b[0m\u001b[0;34m\u001b[0m\u001b[0m\n\u001b[0;32m---> 58\u001b[0;31m         \u001b[0;32mreturn\u001b[0m \u001b[0msession\u001b[0m\u001b[0;34m.\u001b[0m\u001b[0mrequest\u001b[0m\u001b[0;34m(\u001b[0m\u001b[0mmethod\u001b[0m\u001b[0;34m=\u001b[0m\u001b[0mmethod\u001b[0m\u001b[0;34m,\u001b[0m \u001b[0murl\u001b[0m\u001b[0;34m=\u001b[0m\u001b[0murl\u001b[0m\u001b[0;34m,\u001b[0m \u001b[0;34m**\u001b[0m\u001b[0mkwargs\u001b[0m\u001b[0;34m)\u001b[0m\u001b[0;34m\u001b[0m\u001b[0m\n\u001b[0m\u001b[1;32m     59\u001b[0m \u001b[0;34m\u001b[0m\u001b[0m\n\u001b[1;32m     60\u001b[0m \u001b[0;34m\u001b[0m\u001b[0m\n",
      "\u001b[0;32m/usr/lib/python3.6/site-packages/requests/sessions.py\u001b[0m in \u001b[0;36mrequest\u001b[0;34m(self, method, url, params, data, headers, cookies, files, auth, timeout, allow_redirects, proxies, hooks, stream, verify, cert, json)\u001b[0m\n\u001b[1;32m    492\u001b[0m             \u001b[0mhooks\u001b[0m\u001b[0;34m=\u001b[0m\u001b[0mhooks\u001b[0m\u001b[0;34m,\u001b[0m\u001b[0;34m\u001b[0m\u001b[0m\n\u001b[1;32m    493\u001b[0m         )\n\u001b[0;32m--> 494\u001b[0;31m         \u001b[0mprep\u001b[0m \u001b[0;34m=\u001b[0m \u001b[0mself\u001b[0m\u001b[0;34m.\u001b[0m\u001b[0mprepare_request\u001b[0m\u001b[0;34m(\u001b[0m\u001b[0mreq\u001b[0m\u001b[0;34m)\u001b[0m\u001b[0;34m\u001b[0m\u001b[0m\n\u001b[0m\u001b[1;32m    495\u001b[0m \u001b[0;34m\u001b[0m\u001b[0m\n\u001b[1;32m    496\u001b[0m         \u001b[0mproxies\u001b[0m \u001b[0;34m=\u001b[0m \u001b[0mproxies\u001b[0m \u001b[0;32mor\u001b[0m \u001b[0;34m{\u001b[0m\u001b[0;34m}\u001b[0m\u001b[0;34m\u001b[0m\u001b[0m\n",
      "\u001b[0;32m/usr/lib/python3.6/site-packages/requests/sessions.py\u001b[0m in \u001b[0;36mprepare_request\u001b[0;34m(self, request)\u001b[0m\n\u001b[1;32m    435\u001b[0m             \u001b[0mauth\u001b[0m\u001b[0;34m=\u001b[0m\u001b[0mmerge_setting\u001b[0m\u001b[0;34m(\u001b[0m\u001b[0mauth\u001b[0m\u001b[0;34m,\u001b[0m \u001b[0mself\u001b[0m\u001b[0;34m.\u001b[0m\u001b[0mauth\u001b[0m\u001b[0;34m)\u001b[0m\u001b[0;34m,\u001b[0m\u001b[0;34m\u001b[0m\u001b[0m\n\u001b[1;32m    436\u001b[0m             \u001b[0mcookies\u001b[0m\u001b[0;34m=\u001b[0m\u001b[0mmerged_cookies\u001b[0m\u001b[0;34m,\u001b[0m\u001b[0;34m\u001b[0m\u001b[0m\n\u001b[0;32m--> 437\u001b[0;31m             \u001b[0mhooks\u001b[0m\u001b[0;34m=\u001b[0m\u001b[0mmerge_hooks\u001b[0m\u001b[0;34m(\u001b[0m\u001b[0mrequest\u001b[0m\u001b[0;34m.\u001b[0m\u001b[0mhooks\u001b[0m\u001b[0;34m,\u001b[0m \u001b[0mself\u001b[0m\u001b[0;34m.\u001b[0m\u001b[0mhooks\u001b[0m\u001b[0;34m)\u001b[0m\u001b[0;34m,\u001b[0m\u001b[0;34m\u001b[0m\u001b[0m\n\u001b[0m\u001b[1;32m    438\u001b[0m         )\n\u001b[1;32m    439\u001b[0m         \u001b[0;32mreturn\u001b[0m \u001b[0mp\u001b[0m\u001b[0;34m\u001b[0m\u001b[0m\n",
      "\u001b[0;32m/usr/lib/python3.6/site-packages/requests/models.py\u001b[0m in \u001b[0;36mprepare\u001b[0;34m(self, method, url, headers, files, data, params, auth, cookies, hooks, json)\u001b[0m\n\u001b[1;32m    304\u001b[0m         \u001b[0mself\u001b[0m\u001b[0;34m.\u001b[0m\u001b[0mprepare_method\u001b[0m\u001b[0;34m(\u001b[0m\u001b[0mmethod\u001b[0m\u001b[0;34m)\u001b[0m\u001b[0;34m\u001b[0m\u001b[0m\n\u001b[1;32m    305\u001b[0m         \u001b[0mself\u001b[0m\u001b[0;34m.\u001b[0m\u001b[0mprepare_url\u001b[0m\u001b[0;34m(\u001b[0m\u001b[0murl\u001b[0m\u001b[0;34m,\u001b[0m \u001b[0mparams\u001b[0m\u001b[0;34m)\u001b[0m\u001b[0;34m\u001b[0m\u001b[0m\n\u001b[0;32m--> 306\u001b[0;31m         \u001b[0mself\u001b[0m\u001b[0;34m.\u001b[0m\u001b[0mprepare_headers\u001b[0m\u001b[0;34m(\u001b[0m\u001b[0mheaders\u001b[0m\u001b[0;34m)\u001b[0m\u001b[0;34m\u001b[0m\u001b[0m\n\u001b[0m\u001b[1;32m    307\u001b[0m         \u001b[0mself\u001b[0m\u001b[0;34m.\u001b[0m\u001b[0mprepare_cookies\u001b[0m\u001b[0;34m(\u001b[0m\u001b[0mcookies\u001b[0m\u001b[0;34m)\u001b[0m\u001b[0;34m\u001b[0m\u001b[0m\n\u001b[1;32m    308\u001b[0m         \u001b[0mself\u001b[0m\u001b[0;34m.\u001b[0m\u001b[0mprepare_body\u001b[0m\u001b[0;34m(\u001b[0m\u001b[0mdata\u001b[0m\u001b[0;34m,\u001b[0m \u001b[0mfiles\u001b[0m\u001b[0;34m,\u001b[0m \u001b[0mjson\u001b[0m\u001b[0;34m)\u001b[0m\u001b[0;34m\u001b[0m\u001b[0m\n",
      "\u001b[0;32m/usr/lib/python3.6/site-packages/requests/models.py\u001b[0m in \u001b[0;36mprepare_headers\u001b[0;34m(self, headers)\u001b[0m\n\u001b[1;32m    438\u001b[0m             \u001b[0;32mfor\u001b[0m \u001b[0mheader\u001b[0m \u001b[0;32min\u001b[0m \u001b[0mheaders\u001b[0m\u001b[0;34m.\u001b[0m\u001b[0mitems\u001b[0m\u001b[0;34m(\u001b[0m\u001b[0;34m)\u001b[0m\u001b[0;34m:\u001b[0m\u001b[0;34m\u001b[0m\u001b[0m\n\u001b[1;32m    439\u001b[0m                 \u001b[0;31m# Raise exception on invalid header value.\u001b[0m\u001b[0;34m\u001b[0m\u001b[0;34m\u001b[0m\u001b[0m\n\u001b[0;32m--> 440\u001b[0;31m                 \u001b[0mcheck_header_validity\u001b[0m\u001b[0;34m(\u001b[0m\u001b[0mheader\u001b[0m\u001b[0;34m)\u001b[0m\u001b[0;34m\u001b[0m\u001b[0m\n\u001b[0m\u001b[1;32m    441\u001b[0m                 \u001b[0mname\u001b[0m\u001b[0;34m,\u001b[0m \u001b[0mvalue\u001b[0m \u001b[0;34m=\u001b[0m \u001b[0mheader\u001b[0m\u001b[0;34m\u001b[0m\u001b[0m\n\u001b[1;32m    442\u001b[0m                 \u001b[0mself\u001b[0m\u001b[0;34m.\u001b[0m\u001b[0mheaders\u001b[0m\u001b[0;34m[\u001b[0m\u001b[0mto_native_string\u001b[0m\u001b[0;34m(\u001b[0m\u001b[0mname\u001b[0m\u001b[0;34m)\u001b[0m\u001b[0;34m]\u001b[0m \u001b[0;34m=\u001b[0m \u001b[0mvalue\u001b[0m\u001b[0;34m\u001b[0m\u001b[0m\n",
      "\u001b[0;32m/usr/lib/python3.6/site-packages/requests/utils.py\u001b[0m in \u001b[0;36mcheck_header_validity\u001b[0;34m(header)\u001b[0m\n\u001b[1;32m    870\u001b[0m     \u001b[0;32mexcept\u001b[0m \u001b[0mTypeError\u001b[0m\u001b[0;34m:\u001b[0m\u001b[0;34m\u001b[0m\u001b[0m\n\u001b[1;32m    871\u001b[0m         raise InvalidHeader(\"Value for header {%s: %s} must be of type str or \"\n\u001b[0;32m--> 872\u001b[0;31m                             \"bytes, not %s\" % (name, value, type(value)))\n\u001b[0m\u001b[1;32m    873\u001b[0m \u001b[0;34m\u001b[0m\u001b[0m\n\u001b[1;32m    874\u001b[0m \u001b[0;34m\u001b[0m\u001b[0m\n",
      "\u001b[0;31mInvalidHeader\u001b[0m: Value for header {User-Agent: {'User-Agent': 'UNC Journo Class'}} must be of type str or bytes, not <class 'dict'>"
     ]
    }
   ],
   "source": [
    "# Adds the User-Agent becase goheels blockes the python agent.\n",
    "url = \"http://goheels.com/roster.aspx?path=mbball\"\n",
    "headers = {'User-Agent': 'UNC Journo Class'}\n",
    "resp = requests.get(url, headers={'User-Agent': headers},)\n"
   ]
  },
  {
   "cell_type": "code",
   "execution_count": null,
   "metadata": {},
   "outputs": [],
   "source": [
    "body_bytes = resp.content\n",
    "\n",
    "body_str = body_bytes.decode('utf-8')\n",
    "body_str"
   ]
  },
  {
   "cell_type": "code",
   "execution_count": null,
   "metadata": {},
   "outputs": [],
   "source": [
    "sel = scrapy.Selector(text=body_str)"
   ]
  },
  {
   "cell_type": "code",
   "execution_count": null,
   "metadata": {},
   "outputs": [],
   "source": [
    "#selects the first table using [index]\n",
    "table = sel.css('.sidearm-table')[0]\n",
    "table"
   ]
  },
  {
   "cell_type": "code",
   "execution_count": null,
   "metadata": {},
   "outputs": [],
   "source": [
    "table.css('tr') # Get all the tr elements within the table\n",
    "table.css('tr')[0] # Get the first tr element within the table using the pythonic index\n",
    "table.css('tr')[0].css('th') # Get all the th elements from within the first tr\n",
    "table.css('tr:nth-child(1) th') # Get all the th elements from the first tr element within the table using CSS selector\n",
    "# !!!! Note the table on the page has a header and a footer and there will be TWO sets of tr's with th's"
   ]
  },
  {
   "cell_type": "code",
   "execution_count": null,
   "metadata": {},
   "outputs": [],
   "source": [
    "table.css('tr:nth-child(1) th')"
   ]
  },
  {
   "cell_type": "code",
   "execution_count": null,
   "metadata": {},
   "outputs": [],
   "source": [
    "table.css('tr')[0].css('th').xpath('string()') "
   ]
  },
  {
   "cell_type": "code",
   "execution_count": null,
   "metadata": {},
   "outputs": [],
   "source": [
    "table.css('tr')[0].css('th').xpath('string()').extract()"
   ]
  },
  {
   "cell_type": "code",
   "execution_count": null,
   "metadata": {},
   "outputs": [],
   "source": [
    "col_names = table.css('tr:nth-child(1) th').xpath('string()').extract()"
   ]
  },
  {
   "cell_type": "code",
   "execution_count": null,
   "metadata": {},
   "outputs": [],
   "source": [
    "col_names"
   ]
  },
  {
   "cell_type": "code",
   "execution_count": null,
   "metadata": {},
   "outputs": [],
   "source": [
    "other_rows = table.css('tr:not(:nth-child(1))')"
   ]
  },
  {
   "cell_type": "code",
   "execution_count": null,
   "metadata": {},
   "outputs": [],
   "source": [
    "other_rows"
   ]
  },
  {
   "cell_type": "code",
   "execution_count": null,
   "metadata": {},
   "outputs": [],
   "source": [
    "# my starting point for just getting the information from the rows\n",
    "by_player_num = {}\n",
    "for row in other_rows:\n",
    "    player_num = row.css('td')[0].xpath('string()').extract()[0]\n",
    "    player_name = row.css('td')[1].xpath('string()').extract()[0]\n",
    "    player_position = row.css('td')[2].xpath('string()').extract()[0]\n",
    "    player_num_data = []\n",
    "    player_name_data = []\n",
    "    \n",
    "    by_player_num[player_num] = player_name, player_position \n"
   ]
  },
  {
   "cell_type": "code",
   "execution_count": null,
   "metadata": {},
   "outputs": [],
   "source": [
    "by_player_num"
   ]
  },
  {
   "cell_type": "code",
   "execution_count": null,
   "metadata": {},
   "outputs": [],
   "source": [
    "\n",
    "#populate all the data to the object organized by number\n",
    "by_player_num = {}\n",
    "player_data = []\n",
    "for row in other_rows:\n",
    "    \n",
    "    player_num = row.css('td')[0].xpath('string()').extract()[0]\n",
    "    player_name = row.css('td')[1].xpath('string()').extract()[0]\n",
    "    # get the second cell, then the link, then just the href\n",
    "    link = row.css('td')[1]\n",
    "    link = link.css('a')\n",
    "    player_href= link.xpath('@href').extract()\n",
    "    player_position = row.css('td')[2].xpath('string()').extract()[0]\n",
    "    player_num_data = []\n",
    "    player_data = {\n",
    "        \"name\": player_name,\n",
    "        \"position\": player_position,\n",
    "        \"href\": player_href[0],\n",
    "    }\n",
    "    \n",
    "    \n",
    "    \n",
    "#     player_data.append({\n",
    "#             \"name\": player_name,\n",
    "#             \"position\": player_position,\n",
    "#             \"href\": player_href[0],\n",
    "#         })\n",
    "    \n",
    "    by_player_num[player_num] = player_data \n",
    "   "
   ]
  },
  {
   "cell_type": "code",
   "execution_count": 47,
   "metadata": {},
   "outputs": [
    {
     "data": {
      "text/plain": [
       "{'1': {'href': '/roster.aspx?rp_id=13515',\n",
       "  'image': '/images/2017/9/12/Pinson_Theo_mb_2017_23.jpg?width=300',\n",
       "  'name': 'Theo Pinson',\n",
       "  'position': 'F/G'},\n",
       " '11': {'href': '/roster.aspx?rp_id=13518',\n",
       "  'image': '/images/2017/12/22/Rush_Shea.jpg?width=300',\n",
       "  'name': 'Shea Rush',\n",
       "  'position': 'F'},\n",
       " '13': {'href': '/roster.aspx?rp_id=13525',\n",
       "  'image': '/images/2017/9/12/Johnson_Cameron_mb_2017_130.jpg?width=300',\n",
       "  'name': 'Cameron Johnson',\n",
       "  'position': 'G'},\n",
       " '14': {'href': '/roster.aspx?rp_id=14170',\n",
       "  'image': '/images/2017/12/22/Ma_Kane.jpg?width=300',\n",
       "  'name': 'Kane Ma',\n",
       "  'position': 'G'},\n",
       " '15': {'href': '/roster.aspx?rp_id=13522',\n",
       "  'image': '/images/2017/9/12/Brooks_Garrison_mb_2017_221.jpg?width=300',\n",
       "  'name': 'Garrison Brooks',\n",
       "  'position': 'F'},\n",
       " '2': {'href': '/roster.aspx?rp_id=13508',\n",
       "  'image': '/images/2017/9/12/Berry_Joel_mb_2017_59.jpg?width=300',\n",
       "  'name': 'Joel Berry II',\n",
       "  'position': 'G'},\n",
       " '21': {'href': '/roster.aspx?rp_id=13526',\n",
       "  'image': '/images/2017/9/12/Manley_Sterling_mb_2017_106.jpg?width=300',\n",
       "  'name': 'Sterling Manley',\n",
       "  'position': 'F'},\n",
       " '22': {'href': '/roster.aspx?rp_id=13527',\n",
       "  'image': '/images/2017/9/12/Miller_Walker_mb_2017_39.jpg?width=300',\n",
       "  'name': 'Walker Miller',\n",
       "  'position': 'F'},\n",
       " '24': {'href': '/roster.aspx?rp_id=13520',\n",
       "  'image': '/images/2017/9/12/Williams_Kenny_mb_2017_90.jpg?width=300',\n",
       "  'name': 'Kenny Williams',\n",
       "  'position': 'G'},\n",
       " '25': {'href': '/roster.aspx?rp_id=13517',\n",
       "  'image': '/images/2017/9/12/Rohlman_Aaron_mb_2017_217.jpg?width=300',\n",
       "  'name': 'Aaron Rohlman',\n",
       "  'position': 'F'},\n",
       " '3': {'href': '/roster.aspx?rp_id=13528',\n",
       "  'image': '/images/2017/9/12/Platek_Andrew_mb_2017_211.jpg?width=300',\n",
       "  'name': 'Andrew Platek',\n",
       "  'position': 'G'},\n",
       " '30': {'href': '/roster.aspx?rp_id=13530',\n",
       "  'image': '/images/2017/9/12/Smith_KJ_mb_2017_167.jpg?width=300',\n",
       "  'name': 'K.J. Smith',\n",
       "  'position': 'G'},\n",
       " '32': {'href': '/roster.aspx?rp_id=13513',\n",
       "  'image': '/images/2017/9/12/Maye_Luke_mb_2017_45.jpg?width=300',\n",
       "  'name': 'Luke Maye',\n",
       "  'position': 'F'},\n",
       " '4': {'href': '/roster.aspx?rp_id=13516',\n",
       "  'image': '/images/2017/9/12/Robinson_Brandon_mb_2017_122.jpg?width=300',\n",
       "  'name': 'Brandon Robinson',\n",
       "  'position': 'G'},\n",
       " '42': {'href': '/roster.aspx?rp_id=13524',\n",
       "  'image': '/images/2017/9/12/Huffman_Brandon_mb_2017_256.jpg?width=300',\n",
       "  'name': 'Brandon Huffman',\n",
       "  'position': 'F'},\n",
       " '5': {'href': '/roster.aspx?rp_id=13523',\n",
       "  'image': '/images/2017/9/12/Felton_Jalek_mb_2017_98.jpg?width=300',\n",
       "  'name': 'Jalek Felton',\n",
       "  'position': 'G'}}"
      ]
     },
     "execution_count": 47,
     "metadata": {},
     "output_type": "execute_result"
    }
   ],
   "source": [
    "by_player_num"
   ]
  },
  {
   "cell_type": "code",
   "execution_count": 45,
   "metadata": {},
   "outputs": [],
   "source": [
    "# Create a regular expression to find javascript objects on the page being passed to a function call...\n",
    "\n",
    "# There is JS on the page that looks like\n",
    "# $.getJSON(\"/services/responsive-roster-bio.ashx\", { type: 'stats', rp_id: 9450, path: 'baseball', year: 2017, player_id: 3759 }\n",
    "# and we want the object:\n",
    "# { type: 'stats', rp_id: 9450, path: 'baseball', year: 2017, player_id: 3759 }\n",
    "# This pattern will match and capture anything between curly braces following the ashx url\n",
    "js_obj_rx = re.compile(r'.*?responsive-roster-bio\\.ashx.*?({.*?})')\n",
    "\n",
    "\n",
    "\n",
    "# now get data from secondary, profile page\n",
    "for player in list(by_player_num.values()):\n",
    "    new_url = 'http://goheels.com' + player[\"href\"]\n",
    "    resp = requests.get(new_url, headers={'User-Agent': 'UNC Journo Class'},)\n",
    "    content = resp.content.decode('utf-8')\n",
    "    sel = scrapy.Selector(text=content)\n",
    "    #selects the image url\n",
    "    player_image = sel.css('.sidearm-roster-player-image img').xpath(\"@src\").extract()[0]\n",
    "    # selects the biography\n",
    "    player_bio = sel.css('#sidearm-roster-player-bio').xpath('string()').extract()[0]\n",
    "\n",
    "    player[\"image\"] = player_image\n",
    "    #player[\"bio\"] = player_bio\n",
    "    \n",
    "    # Now we know what leads up to the content we're looking for so \n",
    "    # we split the text content some token that preceeds our \n",
    "    # regex to reduce the text size\n",
    "    parts = content.split('$.getJSON(\"/services/')[1:]\n",
    "    \n",
    "    # Now we run our regular expression on the joined \n",
    "    # parts (put them back in to a single string)\n",
    "    # and capture the JS objects\n",
    "    captured = js_obj_rx.findall(''.join(parts))\n",
    "    \n",
    "    # Turn it in to valid json by splitting everything apart\n",
    "    clean_objs = []\n",
    "    for obj_str in captured:\n",
    "        # We only want the stats object...\n",
    "        if 'stats' not in obj_str:\n",
    "            continue\n",
    "\n",
    "        # Remove the braces\n",
    "        obj_str = obj_str.replace('{', '').replace('}', '')\n",
    "        # Remove the quotes\n",
    "        obj_str = obj_str.replace(\"'\", '').replace('\"', '')\n",
    "        # Split apart on commas\n",
    "        obj_pairs = obj_str.split(',')\n",
    "        # Now it looks like [\" type: related\", \" rp_id: 9450\", ...]\n",
    "        # So we need to wrap everything in quotes to make it json so lets get separate values\n",
    "        obj_pairs = [x.split(\":\") for x in obj_pairs]\n",
    "        # Now it looks like [(' type', ' related'), ]\n",
    "        # and we need to clean up all the leading / trailing white space\n",
    "        # and wrap each value in double quotes\n",
    "        clean_pairs = []\n",
    "        for pair in obj_pairs:\n",
    "            clean_pairs.append(['\"{}\"'.format(p.strip()) for p in pair])\n",
    "        # And join them together with colons\n",
    "        colonized = [\":\".join(p) for p in clean_pairs]\n",
    "        # So now colonized is ['\"type\":\"stats\"']\n",
    "        # and we need to join those together with commas\n",
    "        commas = ','.join(colonized)\n",
    "        # And make it look like a JSON object...\n",
    "        json_str = \"{\" + commas + \"}\"\n",
    "        # And make it a python dictionary\n",
    "        clean_objs.append(json.loads(json_str))\n",
    "        \n",
    "    # That was a lot of work! but now we can go get stats directly\n",
    "    #double splat\n",
    "    #keyword arg\n",
    "    stats_url = (\n",
    "        \"http://goheels.com/services/responsive-roster-bio.ashx?\"\n",
    "        \"type={type}&rp_id={rp_id}&path={path}&year={year}\"\n",
    "        \"&player_id={player_id}\"\n",
    "    ).format(**clean_objs[0])\n",
    "    \n",
    "    \n",
    "    resp = requests.get(stats_url, headers=headers)\n",
    "    sel = scrapy.Selector(text=resp.content.decode('utf-8'))\n",
    "    \n",
    "    html = json.loads(resp.content.decode(\"utf-8\"))[\"current_stats\"]\n",
    "    sel = scrapy.Selector(text=html)\n",
    "\n"
   ]
  },
  {
   "cell_type": "code",
   "execution_count": 46,
   "metadata": {},
   "outputs": [
    {
     "data": {
      "text/plain": [
       "<Selector xpath=None data='<html><body><section>\\r\\n        <h5>Game-'>"
      ]
     },
     "execution_count": 46,
     "metadata": {},
     "output_type": "execute_result"
    }
   ],
   "source": [
    "#clean_objs\n",
    "#stats_url\n",
    "sel\n",
    "\n",
    "# That looks weird... look closely at the data... html... body ... p... JSON!\n",
    "#resp.content\n"
   ]
  },
  {
   "cell_type": "code",
   "execution_count": null,
   "metadata": {},
   "outputs": [],
   "source": []
  },
  {
   "cell_type": "code",
   "execution_count": null,
   "metadata": {},
   "outputs": [],
   "source": []
  }
 ],
 "metadata": {
  "kernelspec": {
   "display_name": "Python 3",
   "language": "python",
   "name": "python3"
  },
  "language_info": {
   "codemirror_mode": {
    "name": "ipython",
    "version": 3
   },
   "file_extension": ".py",
   "mimetype": "text/x-python",
   "name": "python",
   "nbconvert_exporter": "python",
   "pygments_lexer": "ipython3",
   "version": "3.6.3"
  }
 },
 "nbformat": 4,
 "nbformat_minor": 2
}
