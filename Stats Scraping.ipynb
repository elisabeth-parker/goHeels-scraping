{
 "cells": [
  {
   "cell_type": "code",
   "execution_count": 26,
   "metadata": {},
   "outputs": [],
   "source": [
    "import json\n",
    "import re\n",
    "\n",
    "import requests\n",
    "import scrapy"
   ]
  },
  {
   "cell_type": "code",
   "execution_count": 27,
   "metadata": {},
   "outputs": [],
   "source": [
    "url = \"http://goheels.com/roster.aspx?rp_id=9450\""
   ]
  },
  {
   "cell_type": "code",
   "execution_count": 28,
   "metadata": {},
   "outputs": [],
   "source": [
    "headers = {'User-Agent': 'UNC Journo Class'}"
   ]
  },
  {
   "cell_type": "code",
   "execution_count": 29,
   "metadata": {},
   "outputs": [],
   "source": [
    "resp = requests.get(url, headers=headers)"
   ]
  },
  {
   "cell_type": "code",
   "execution_count": 30,
   "metadata": {},
   "outputs": [],
   "source": [
    "body_bytes = resp.content"
   ]
  },
  {
   "cell_type": "code",
   "execution_count": 31,
   "metadata": {},
   "outputs": [],
   "source": [
    "# Body is in bytes... turn it in to a string\n",
    "body_str = body_bytes.decode('utf-8')"
   ]
  },
  {
   "cell_type": "code",
   "execution_count": 32,
   "metadata": {},
   "outputs": [],
   "source": [
    "# Create a regular expression to find javascript objects on the page being passed to a function call...\n",
    "\n",
    "# There is JS on the page that looks like\n",
    "# $.getJSON(\"/services/responsive-roster-bio.ashx\", { type: 'stats', rp_id: 9450, path: 'baseball', year: 2017, player_id: 3759 }\n",
    "# and we want the object:\n",
    "# { type: 'stats', rp_id: 9450, path: 'baseball', year: 2017, player_id: 3759 }\n",
    "# This pattern will match and capture anything between curly braces following the ashx url\n",
    "js_obj_rx = re.compile(r'.*?responsive-roster-bio\\.ashx.*?({.*?})')"
   ]
  },
  {
   "cell_type": "code",
   "execution_count": 33,
   "metadata": {},
   "outputs": [],
   "source": [
    "# Now we know what leads up to the content we're looking for so \n",
    "# we split the text content some token that preceeds our \n",
    "# regex to reduce the text size\n",
    "parts = body_str.split('$.getJSON(\"/services/')[1:]\n"
   ]
  },
  {
   "cell_type": "code",
   "execution_count": 34,
   "metadata": {},
   "outputs": [],
   "source": [
    "# Now we run our regular expression on the joined \n",
    "# parts (put them back in to a single string)\n",
    "# and capture the JS objects\n",
    "captured = js_obj_rx.findall(''.join(parts))"
   ]
  },
  {
   "cell_type": "code",
   "execution_count": 35,
   "metadata": {},
   "outputs": [
    {
     "data": {
      "text/plain": [
       "[\"{ type: 'stats', rp_id: 9450, path: 'baseball', year: 2017, player_id: 3759 }\",\n",
       " \"{ type: 'related', rp_id: 9450, player_id: 3759 }\"]"
      ]
     },
     "execution_count": 35,
     "metadata": {},
     "output_type": "execute_result"
    }
   ],
   "source": [
    "# Note how similar the JS is to JSON...\n",
    "captured"
   ]
  },
  {
   "cell_type": "code",
   "execution_count": 36,
   "metadata": {},
   "outputs": [],
   "source": [
    "# Turn it in to valid json by splitting everything apart\n",
    "clean_objs = []\n",
    "for obj_str in captured:\n",
    "    # We only want the stats object...\n",
    "    if 'stats' not in obj_str:\n",
    "        continue\n",
    "\n",
    "    # Remove the braces\n",
    "    obj_str = obj_str.replace('{', '').replace('}', '')\n",
    "    # Remove the quotes\n",
    "    obj_str = obj_str.replace(\"'\", '').replace('\"', '')\n",
    "    # Split apart on commas\n",
    "    obj_pairs = obj_str.split(',')\n",
    "    # Now it looks like [\" type: related\", \" rp_id: 9450\", ...]\n",
    "    # So we need to wrap everything in quotes to make it json so lets get separate values\n",
    "    obj_pairs = [x.split(\":\") for x in obj_pairs]\n",
    "    # Now it looks like [(' type', ' related'), ]\n",
    "    # and we need to clean up all the leading / trailing white space\n",
    "    # and wrap each value in double quotes\n",
    "    clean_pairs = []\n",
    "    for pair in obj_pairs:\n",
    "        clean_pairs.append(['\"{}\"'.format(p.strip()) for p in pair])\n",
    "    # And join them together with colons\n",
    "    colonized = [\":\".join(p) for p in clean_pairs]\n",
    "    # So now colonized is ['\"type\":\"stats\"']\n",
    "    # and we need to join those together with commas\n",
    "    commas = ','.join(colonized)\n",
    "    # And make it look like a JSON object...\n",
    "    json_str = \"{\" + commas + \"}\"\n",
    "    # And make it a python dictionary\n",
    "    clean_objs.append(json.loads(json_str))"
   ]
  },
  {
   "cell_type": "code",
   "execution_count": 37,
   "metadata": {},
   "outputs": [
    {
     "data": {
      "text/plain": [
       "[{'path': 'baseball',\n",
       "  'player_id': '3759',\n",
       "  'rp_id': '9450',\n",
       "  'type': 'stats',\n",
       "  'year': '2017'}]"
      ]
     },
     "execution_count": 37,
     "metadata": {},
     "output_type": "execute_result"
    }
   ],
   "source": [
    "clean_objs"
   ]
  },
  {
   "cell_type": "code",
   "execution_count": 38,
   "metadata": {},
   "outputs": [],
   "source": [
    "# That was a lot of work! but now we can go get stats directly\n",
    "#double splat\n",
    "#keyword arg\n",
    "stats_url = (\n",
    "    \"http://goheels.com/services/responsive-roster-bio.ashx?\"\n",
    "    \"type={type}&rp_id={rp_id}&path={path}&year={year}\"\n",
    "    \"&player_id={player_id}\"\n",
    ").format(**clean_objs[0])"
   ]
  },
  {
   "cell_type": "code",
   "execution_count": 39,
   "metadata": {},
   "outputs": [
    {
     "data": {
      "text/plain": [
       "'http://goheels.com/services/responsive-roster-bio.ashx?type=stats&rp_id=9450&path=baseball&year=2017&player_id=3759'"
      ]
     },
     "execution_count": 39,
     "metadata": {},
     "output_type": "execute_result"
    }
   ],
   "source": [
    "stats_url"
   ]
  },
  {
   "cell_type": "code",
   "execution_count": 40,
   "metadata": {},
   "outputs": [],
   "source": [
    "resp = requests.get(stats_url, headers=headers)"
   ]
  },
  {
   "cell_type": "code",
   "execution_count": 41,
   "metadata": {},
   "outputs": [],
   "source": [
    "sel = scrapy.Selector(text=resp.content.decode('utf-8'))"
   ]
  },
  {
   "cell_type": "code",
   "execution_count": 42,
   "metadata": {},
   "outputs": [
    {
     "data": {
      "text/plain": [
       "<Selector xpath=None data='<html><body><p>{\"current_stats\":\"\\\\r\\\\n\\\\t\\\\'>"
      ]
     },
     "execution_count": 42,
     "metadata": {},
     "output_type": "execute_result"
    }
   ],
   "source": [
    "sel"
   ]
  },
  {
   "cell_type": "code",
   "execution_count": 43,
   "metadata": {},
   "outputs": [],
   "source": [
    "# That looks weird... look closely at the data... html... body ... p... JSON!"
   ]
  },
  {
   "cell_type": "code",
   "execution_count": 44,
   "metadata": {},
   "outputs": [
    {
     "data": {
      "text/plain": [
       "b'{\"current_stats\":\"\\\\r\\\\n\\\\t\\\\t\\\\t<section>\\\\r\\\\n\\\\t\\\\t\\\\t\\\\t<h5>Hitting Statistics</h5>\\\\r\\\\n\\\\t\\\\t\\\\t\\\\t<div class=\\\\\"sidearm-table-overflow-on-x-large\\\\\">\\\\r\\\\n\\\\t\\\\t\\\\t\\\\t\\\\t<table class=\\\\\"sidearm-table highlight-column-hover\\\\\">\\\\r\\\\n\\\\t\\\\t\\\\t\\\\t\\\\t\\\\t<caption class=\\\\\"hide\\\\\">Greenfield, Aaron - Hitting Statistics</caption>\\\\r\\\\n\\\\t\\\\t\\\\t\\\\t\\\\t\\\\t<thead>\\\\r\\\\n\\\\t\\\\t\\\\t\\\\t\\\\t\\\\t\\\\t<tr>\\\\r\\\\n\\\\t\\\\t\\\\t\\\\t\\\\t\\\\t\\\\t\\\\t<th scope=\\\\\"col\\\\\" class=\\\\\"text-left\\\\\">Date</th>\\\\r\\\\n\\\\t\\\\t\\\\t\\\\t\\\\t\\\\t\\\\t\\\\t<th scope=\\\\\"col\\\\\" class=\\\\\"text-left\\\\\">Opponent</th>\\\\r\\\\n\\\\t\\\\t\\\\t\\\\t\\\\t\\\\t\\\\t\\\\t<th scope=\\\\\"col\\\\\">W/L</th>\\\\r\\\\n\\\\t\\\\t\\\\t\\\\t\\\\t\\\\t\\\\t\\\\t<th scope=\\\\\"col\\\\\">GS</th>\\\\r\\\\n\\\\t\\\\t\\\\t\\\\t\\\\t\\\\t\\\\t\\\\t<th scope=\\\\\"col\\\\\">AB</th>\\\\r\\\\n\\\\t\\\\t\\\\t\\\\t\\\\t\\\\t\\\\t\\\\t<th scope=\\\\\"col\\\\\">R</th>\\\\r\\\\n\\\\t\\\\t\\\\t\\\\t\\\\t\\\\t\\\\t\\\\t<th scope=\\\\\"col\\\\\">H</th>\\\\r\\\\n\\\\t\\\\t\\\\t\\\\t\\\\t\\\\t\\\\t\\\\t<th scope=\\\\\"col\\\\\">RBI</th>\\\\r\\\\n\\\\t\\\\t\\\\t\\\\t\\\\t\\\\t\\\\t\\\\t<th scope=\\\\\"col\\\\\">2B</th>\\\\r\\\\n\\\\t\\\\t\\\\t\\\\t\\\\t\\\\t\\\\t\\\\t<th scope=\\\\\"col\\\\\">3B</th>\\\\r\\\\n\\\\t\\\\t\\\\t\\\\t\\\\t\\\\t\\\\t\\\\t<th scope=\\\\\"col\\\\\">HR</th>\\\\r\\\\n\\\\t\\\\t\\\\t\\\\t\\\\t\\\\t\\\\t\\\\t<th scope=\\\\\"col\\\\\">BB</th>\\\\r\\\\n\\\\t\\\\t\\\\t\\\\t\\\\t\\\\t\\\\t\\\\t<th scope=\\\\\"col\\\\\">IBB</th>\\\\r\\\\n\\\\t\\\\t\\\\t\\\\t\\\\t\\\\t\\\\t\\\\t<th scope=\\\\\"col\\\\\">SB</th>\\\\r\\\\n\\\\t\\\\t\\\\t\\\\t\\\\t\\\\t\\\\t\\\\t<th scope=\\\\\"col\\\\\">SBA</th>\\\\r\\\\n\\\\t\\\\t\\\\t\\\\t\\\\t\\\\t\\\\t\\\\t<th scope=\\\\\"col\\\\\">CS</th>\\\\r\\\\n\\\\t\\\\t\\\\t\\\\t\\\\t\\\\t\\\\t\\\\t<th scope=\\\\\"col\\\\\">HBP</th>\\\\r\\\\n\\\\t\\\\t\\\\t\\\\t\\\\t\\\\t\\\\t\\\\t<th scope=\\\\\"col\\\\\">SH</th>\\\\r\\\\n\\\\t\\\\t\\\\t\\\\t\\\\t\\\\t\\\\t\\\\t<th scope=\\\\\"col\\\\\">SF</th>\\\\r\\\\n\\\\t\\\\t\\\\t\\\\t\\\\t\\\\t\\\\t\\\\t<th scope=\\\\\"col\\\\\">GDP</th>\\\\r\\\\n\\\\t\\\\t\\\\t\\\\t\\\\t\\\\t\\\\t\\\\t<th scope=\\\\\"col\\\\\">K</th>\\\\r\\\\n\\\\t\\\\t\\\\t\\\\t\\\\t\\\\t\\\\t\\\\t<th scope=\\\\\"col\\\\\">AVG</th>                                        \\\\r\\\\n\\\\t\\\\t\\\\t\\\\t\\\\t\\\\t\\\\t</tr>\\\\r\\\\n\\\\t\\\\t\\\\t\\\\t\\\\t\\\\t</thead>\\\\r\\\\n\\\\t\\\\t\\\\t\\\\t\\\\t\\\\t<tbody>\\\\r\\\\n\\\\t\\\\t\\\\t\\\\t\\\\t\\\\t\\\\r\\\\n\\\\t\\\\t\\\\t\\\\t\\\\t\\\\t\\\\t\\\\t<tr>\\\\r\\\\n\\\\t\\\\t\\\\t\\\\t\\\\t\\\\t\\\\t\\\\t\\\\t<td>2/28/2017</td>\\\\r\\\\n\\\\t\\\\t\\\\t\\\\t\\\\t\\\\t\\\\t\\\\t\\\\t<th scope=\\\\\"row\\\\\"> <a href=\\'boxscore.aspx?id=9228&path=baseball\\' aria-label=\\'Winthrop on 2/28/2017\\'>Winthrop</a></th>\\\\r\\\\n\\\\t\\\\t\\\\t\\\\t\\\\t\\\\t\\\\t\\\\t\\\\t<td class=\\\\\"text-center\\\\\">W</td>\\\\r\\\\n\\\\t\\\\t\\\\t\\\\t\\\\t\\\\t\\\\t\\\\t\\\\t<td class=\\\\\"text-center\\\\\">0</td>\\\\r\\\\n\\\\t\\\\t\\\\t\\\\t\\\\t\\\\t\\\\t\\\\t\\\\t<td class=\\\\\"text-center\\\\\">1</td>\\\\r\\\\n\\\\t\\\\t\\\\t\\\\t\\\\t\\\\t\\\\t\\\\t\\\\t<td class=\\\\\"text-center\\\\\">0</td>\\\\r\\\\n\\\\t\\\\t\\\\t\\\\t\\\\t\\\\t\\\\t\\\\t\\\\t<td class=\\\\\"text-center\\\\\">0</td>\\\\r\\\\n\\\\t\\\\t\\\\t\\\\t\\\\t\\\\t\\\\t\\\\t\\\\t<td class=\\\\\"text-center\\\\\">0</td>\\\\r\\\\n\\\\t\\\\t\\\\t\\\\t\\\\t\\\\t\\\\t\\\\t\\\\t<td class=\\\\\"text-center\\\\\">0</td>\\\\r\\\\n\\\\t\\\\t\\\\t\\\\t\\\\t\\\\t\\\\t\\\\t\\\\t<td class=\\\\\"text-center\\\\\">0</td>\\\\r\\\\n\\\\t\\\\t\\\\t\\\\t\\\\t\\\\t\\\\t\\\\t\\\\t<td class=\\\\\"text-center\\\\\">0</td>\\\\r\\\\n\\\\t\\\\t\\\\t\\\\t\\\\t\\\\t\\\\t\\\\t\\\\t<td class=\\\\\"text-center\\\\\">0</td>\\\\r\\\\n\\\\t\\\\t\\\\t\\\\t\\\\t\\\\t\\\\t\\\\t\\\\t<td class=\\\\\"text-center\\\\\">0</td>\\\\r\\\\n\\\\t\\\\t\\\\t\\\\t\\\\t\\\\t\\\\t\\\\t\\\\t<td class=\\\\\"text-center\\\\\">0</td>\\\\r\\\\n\\\\t\\\\t\\\\t\\\\t\\\\t\\\\t\\\\t\\\\t\\\\t<td class=\\\\\"text-center\\\\\">0</td>\\\\r\\\\n\\\\t\\\\t\\\\t\\\\t\\\\t\\\\t\\\\t\\\\t\\\\t<td class=\\\\\"text-center\\\\\">0</td>\\\\r\\\\n\\\\t\\\\t\\\\t\\\\t\\\\t\\\\t\\\\t\\\\t\\\\t<td class=\\\\\"text-center\\\\\">0</td>\\\\r\\\\n\\\\t\\\\t\\\\t\\\\t\\\\t\\\\t\\\\t\\\\t\\\\t<td class=\\\\\"text-center\\\\\">0</td>\\\\r\\\\n\\\\t\\\\t\\\\t\\\\t\\\\t\\\\t\\\\t\\\\t\\\\t<td class=\\\\\"text-center\\\\\">0</td>\\\\r\\\\n\\\\t\\\\t\\\\t\\\\t\\\\t\\\\t\\\\t\\\\t\\\\t<td class=\\\\\"text-center\\\\\">0</td>\\\\r\\\\n\\\\t\\\\t\\\\t\\\\t\\\\t\\\\t\\\\t\\\\t\\\\t<td class=\\\\\"text-center\\\\\">0</td>\\\\r\\\\n\\\\t\\\\t\\\\t\\\\t\\\\t\\\\t\\\\t\\\\t\\\\t<td class=\\\\\"text-center\\\\\">.000</td>\\\\r\\\\n\\\\t\\\\t\\\\t\\\\t\\\\t\\\\t\\\\t\\\\t</tr>\\\\r\\\\n\\\\t\\\\t\\\\t\\\\t\\\\t\\\\t\\\\t                            \\\\r\\\\n\\\\t\\\\t\\\\t\\\\t\\\\t\\\\t</tbody>\\\\r\\\\n\\\\t\\\\t\\\\t\\\\t\\\\t\\\\t<tfoot>\\\\r\\\\n\\\\t\\\\t\\\\t\\\\t\\\\t\\\\t\\\\r\\\\n\\\\t\\\\t\\\\t\\\\t\\\\t\\\\t\\\\t\\\\t<tr>\\\\r\\\\n\\\\t\\\\t\\\\t\\\\t\\\\t\\\\t\\\\t\\\\t\\\\t<td></td>\\\\r\\\\n\\\\t\\\\t\\\\t\\\\t\\\\t\\\\t\\\\t\\\\t\\\\t<td>Total</td>\\\\r\\\\n\\\\t\\\\t\\\\t\\\\t\\\\t\\\\t\\\\t\\\\t\\\\t<td/>\\\\r\\\\n\\\\t\\\\t\\\\t\\\\t\\\\t\\\\t\\\\t\\\\t\\\\t<td class=\\\\\"text-center\\\\\">0</td>\\\\r\\\\n\\\\t\\\\t\\\\t\\\\t\\\\t\\\\t\\\\t\\\\t\\\\t<td class=\\\\\"text-center\\\\\">1</td>\\\\r\\\\n\\\\t\\\\t\\\\t\\\\t\\\\t\\\\t\\\\t\\\\t\\\\t<td class=\\\\\"text-center\\\\\">0</td>\\\\r\\\\n\\\\t\\\\t\\\\t\\\\t\\\\t\\\\t\\\\t\\\\t\\\\t<td class=\\\\\"text-center\\\\\">0</td>\\\\r\\\\n\\\\t\\\\t\\\\t\\\\t\\\\t\\\\t\\\\t\\\\t\\\\t<td class=\\\\\"text-center\\\\\">0</td>\\\\r\\\\n\\\\t\\\\t\\\\t\\\\t\\\\t\\\\t\\\\t\\\\t\\\\t<td class=\\\\\"text-center\\\\\">0</td>\\\\r\\\\n\\\\t\\\\t\\\\t\\\\t\\\\t\\\\t\\\\t\\\\t\\\\t<td class=\\\\\"text-center\\\\\">0</td>\\\\r\\\\n\\\\t\\\\t\\\\t\\\\t\\\\t\\\\t\\\\t\\\\t\\\\t<td class=\\\\\"text-center\\\\\">0</td>\\\\r\\\\n\\\\t\\\\t\\\\t\\\\t\\\\t\\\\t\\\\t\\\\t\\\\t<td class=\\\\\"text-center\\\\\">0</td>\\\\r\\\\n\\\\t\\\\t\\\\t\\\\t\\\\t\\\\t\\\\t\\\\t\\\\t<td class=\\\\\"text-center\\\\\">0</td>\\\\r\\\\n\\\\t\\\\t\\\\t\\\\t\\\\t\\\\t\\\\t\\\\t\\\\t<td class=\\\\\"text-center\\\\\">0</td>\\\\r\\\\n\\\\t\\\\t\\\\t\\\\t\\\\t\\\\t\\\\t\\\\t\\\\t<td class=\\\\\"text-center\\\\\">0</td>\\\\r\\\\n\\\\t\\\\t\\\\t\\\\t\\\\t\\\\t\\\\t\\\\t\\\\t<td class=\\\\\"text-center\\\\\">0</td>\\\\r\\\\n\\\\t\\\\t\\\\t\\\\t\\\\t\\\\t\\\\t\\\\t\\\\t<td class=\\\\\"text-center\\\\\">0</td>\\\\r\\\\n\\\\t\\\\t\\\\t\\\\t\\\\t\\\\t\\\\t\\\\t\\\\t<td class=\\\\\"text-center\\\\\">0</td>\\\\r\\\\n\\\\t\\\\t\\\\t\\\\t\\\\t\\\\t\\\\t\\\\t\\\\t<td class=\\\\\"text-center\\\\\">0</td>\\\\r\\\\n\\\\t\\\\t\\\\t\\\\t\\\\t\\\\t\\\\t\\\\t\\\\t<td class=\\\\\"text-center\\\\\">0</td>\\\\r\\\\n\\\\t\\\\t\\\\t\\\\t\\\\t\\\\t\\\\t\\\\t\\\\t<td class=\\\\\"text-center\\\\\">0</td>\\\\r\\\\n\\\\t\\\\t\\\\t\\\\t\\\\t\\\\t\\\\t\\\\t\\\\t<td class=\\\\\"text-center\\\\\">.000</td>\\\\r\\\\n\\\\t\\\\t\\\\t\\\\t\\\\t\\\\t\\\\t\\\\t</tr>\\\\r\\\\n\\\\t\\\\t\\\\t\\\\t\\\\t\\\\t\\\\t\\\\r\\\\n\\\\t\\\\t\\\\t\\\\t\\\\t\\\\t</tfoot>\\\\r\\\\n\\\\t\\\\t\\\\t\\\\t\\\\t</table>\\\\r\\\\n\\\\t\\\\t\\\\t\\\\t</div>\\\\r\\\\n\\\\t\\\\t\\\\t</section>\\\\r\\\\n\\\\t\\\\t\\\\r\\\\n\\\\t\\\\t\\\\t<section>\\\\r\\\\n\\\\t\\\\t\\\\t\\\\t<h5>Fielding Statistics</h5>\\\\r\\\\n\\\\r\\\\n\\\\t\\\\t\\\\t\\\\t<div class=\\\\\"sidearm-table-overflow-on-x-large\\\\\">\\\\r\\\\n\\\\t\\\\t\\\\t\\\\t\\\\t<table class=\\\\\"sidearm-table highlight-column-hover\\\\\">\\\\r\\\\n\\\\t\\\\t\\\\t\\\\t\\\\t\\\\t<caption class=\\\\\"hide\\\\\">Greenfield, Aaron - Fielding Statistics</caption>\\\\r\\\\n\\\\t\\\\t\\\\t\\\\t\\\\t\\\\t<thead>\\\\r\\\\n\\\\t\\\\t\\\\t\\\\t\\\\t\\\\t\\\\t<tr>\\\\r\\\\n\\\\t\\\\t\\\\t\\\\t\\\\t\\\\t\\\\t\\\\t<th scope=\\\\\"col\\\\\" class=\\\\\"text-left\\\\\">Date</th>\\\\r\\\\n\\\\t\\\\t\\\\t\\\\t\\\\t\\\\t\\\\t\\\\t<th scope=\\\\\"col\\\\\" class=\\\\\"text-left\\\\\">Opponent</th>\\\\r\\\\n\\\\t\\\\t\\\\t\\\\t\\\\t\\\\t\\\\t\\\\t<th scope=\\\\\"col\\\\\">W/L</th>\\\\r\\\\n\\\\t\\\\t\\\\t\\\\t\\\\t\\\\t\\\\t\\\\t<th scope=\\\\\"col\\\\\">C</th>\\\\r\\\\n\\\\t\\\\t\\\\t\\\\t\\\\t\\\\t\\\\t\\\\t<th scope=\\\\\"col\\\\\">PO</th>\\\\r\\\\n\\\\t\\\\t\\\\t\\\\t\\\\t\\\\t\\\\t\\\\t<th scope=\\\\\"col\\\\\">A</th>\\\\r\\\\n\\\\t\\\\t\\\\t\\\\t\\\\t\\\\t\\\\t\\\\t<th scope=\\\\\"col\\\\\">E</th>\\\\r\\\\n\\\\t\\\\t\\\\t\\\\t\\\\t\\\\t\\\\t\\\\t<th scope=\\\\\"col\\\\\">FLD%</th>\\\\r\\\\n\\\\t\\\\t\\\\t\\\\t\\\\t\\\\t\\\\t\\\\t<th scope=\\\\\"col\\\\\">DP</th>\\\\r\\\\n\\\\t\\\\t\\\\t\\\\t\\\\t\\\\t\\\\t\\\\t<th scope=\\\\\"col\\\\\">SBA</th>\\\\r\\\\n\\\\t\\\\t\\\\t\\\\t\\\\t\\\\t\\\\t\\\\t<th scope=\\\\\"col\\\\\">CSB</th>\\\\r\\\\n\\\\t\\\\t\\\\t\\\\t\\\\t\\\\t\\\\t\\\\t<th scope=\\\\\"col\\\\\">PB</th>\\\\r\\\\n\\\\t\\\\t\\\\t\\\\t\\\\t\\\\t\\\\t\\\\t<th scope=\\\\\"col\\\\\">CI</th>                                     \\\\r\\\\n\\\\t\\\\t\\\\t\\\\t\\\\t\\\\t\\\\t</tr>\\\\r\\\\n\\\\t\\\\t\\\\t\\\\t\\\\t\\\\t</thead>\\\\r\\\\n\\\\t\\\\t\\\\t\\\\t\\\\t\\\\t<tbody>\\\\r\\\\n\\\\t\\\\t\\\\t\\\\t\\\\t\\\\t\\\\r\\\\n\\\\t\\\\t\\\\t\\\\t\\\\t\\\\t\\\\t\\\\t<tr>\\\\r\\\\n\\\\t\\\\t\\\\t\\\\t\\\\t\\\\t\\\\t\\\\t\\\\t<td>2/28/2017</td>\\\\r\\\\n\\\\t\\\\t\\\\t\\\\t\\\\t\\\\t\\\\t\\\\t\\\\t<th scope=\\\\\"row\\\\\"> <a href=\\'boxscore.aspx?id=9228&path=baseball\\' aria-label=\\'Winthrop on 2/28/2017\\'>Winthrop</a></th>\\\\r\\\\n\\\\t\\\\t\\\\t\\\\t\\\\t\\\\t\\\\t\\\\t\\\\t<td class=\\\\\"text-center\\\\\">W</td>\\\\r\\\\n\\\\t\\\\t\\\\t\\\\t\\\\t\\\\t\\\\t\\\\t\\\\t<td class=\\\\\"text-center\\\\\">0</td>\\\\r\\\\n\\\\t\\\\t\\\\t\\\\t\\\\t\\\\t\\\\t\\\\t\\\\t<td class=\\\\\"text-center\\\\\">0</td>\\\\r\\\\n\\\\t\\\\t\\\\t\\\\t\\\\t\\\\t\\\\t\\\\t\\\\t<td class=\\\\\"text-center\\\\\">0</td>\\\\r\\\\n\\\\t\\\\t\\\\t\\\\t\\\\t\\\\t\\\\t\\\\t\\\\t<td class=\\\\\"text-center\\\\\">0</td>\\\\r\\\\n\\\\t\\\\t\\\\t\\\\t\\\\t\\\\t\\\\t\\\\t\\\\t<td class=\\\\\"text-center\\\\\">0.000</td>\\\\r\\\\n\\\\t\\\\t\\\\t\\\\t\\\\t\\\\t\\\\t\\\\t\\\\t<td class=\\\\\"text-center\\\\\">0</td>\\\\r\\\\n\\\\t\\\\t\\\\t\\\\t\\\\t\\\\t\\\\t\\\\t\\\\t<td class=\\\\\"text-center\\\\\">0</td>\\\\r\\\\n\\\\t\\\\t\\\\t\\\\t\\\\t\\\\t\\\\t\\\\t\\\\t<td class=\\\\\"text-center\\\\\">0</td>\\\\r\\\\n\\\\t\\\\t\\\\t\\\\t\\\\t\\\\t\\\\t\\\\t\\\\t<td class=\\\\\"text-center\\\\\">0</td>\\\\r\\\\n\\\\t\\\\t\\\\t\\\\t\\\\t\\\\t\\\\t\\\\t\\\\t<td class=\\\\\"text-center\\\\\">0</td>\\\\r\\\\n\\\\t\\\\t\\\\t\\\\t\\\\t\\\\t\\\\t\\\\t</tr>\\\\r\\\\n\\\\t\\\\t\\\\t\\\\t\\\\t\\\\t\\\\t                            \\\\r\\\\n\\\\t\\\\t\\\\t\\\\t\\\\t\\\\t</tbody>\\\\r\\\\n\\\\t\\\\t\\\\t\\\\t\\\\t\\\\t<tfoot>\\\\r\\\\n\\\\t\\\\t\\\\t\\\\t\\\\t\\\\t\\\\r\\\\n\\\\t\\\\t\\\\t\\\\t\\\\t\\\\t\\\\t\\\\t<tr>\\\\r\\\\n\\\\t\\\\t\\\\t\\\\t\\\\t\\\\t\\\\t\\\\t\\\\t<td></td>\\\\r\\\\n\\\\t\\\\t\\\\t\\\\t\\\\t\\\\t\\\\t\\\\t\\\\t<th scope=\\\\\"row\\\\\">Total</th>\\\\r\\\\n\\\\t\\\\t\\\\t\\\\t\\\\t\\\\t\\\\t\\\\t\\\\t<td/>\\\\r\\\\n\\\\t\\\\t\\\\t\\\\t\\\\t\\\\t\\\\t\\\\t\\\\t<td class=\\\\\"text-center\\\\\">0</td>\\\\r\\\\n\\\\t\\\\t\\\\t\\\\t\\\\t\\\\t\\\\t\\\\t\\\\t<td class=\\\\\"text-center\\\\\">0</td>\\\\r\\\\n\\\\t\\\\t\\\\t\\\\t\\\\t\\\\t\\\\t\\\\t\\\\t<td class=\\\\\"text-center\\\\\">0</td>\\\\r\\\\n\\\\t\\\\t\\\\t\\\\t\\\\t\\\\t\\\\t\\\\t\\\\t<td class=\\\\\"text-center\\\\\">0</td>\\\\r\\\\n\\\\t\\\\t\\\\t\\\\t\\\\t\\\\t\\\\t\\\\t\\\\t<td class=\\\\\"text-center\\\\\">0.000</td>\\\\r\\\\n\\\\t\\\\t\\\\t\\\\t\\\\t\\\\t\\\\t\\\\t\\\\t<td class=\\\\\"text-center\\\\\">0</td>\\\\r\\\\n\\\\t\\\\t\\\\t\\\\t\\\\t\\\\t\\\\t\\\\t\\\\t<td class=\\\\\"text-center\\\\\">0</td>\\\\r\\\\n\\\\t\\\\t\\\\t\\\\t\\\\t\\\\t\\\\t\\\\t\\\\t<td class=\\\\\"text-center\\\\\">0</td>\\\\r\\\\n\\\\t\\\\t\\\\t\\\\t\\\\t\\\\t\\\\t\\\\t\\\\t<td class=\\\\\"text-center\\\\\">0</td>\\\\r\\\\n\\\\t\\\\t\\\\t\\\\t\\\\t\\\\t\\\\t\\\\t\\\\t<td class=\\\\\"text-center\\\\\">0</td>\\\\r\\\\n\\\\t\\\\t\\\\t\\\\t\\\\t\\\\t\\\\t\\\\t</tr>\\\\r\\\\n\\\\t\\\\t\\\\t\\\\t\\\\t\\\\t\\\\t\\\\r\\\\n\\\\t\\\\t\\\\t\\\\t\\\\t\\\\t</tfoot>\\\\r\\\\n\\\\t\\\\t\\\\t\\\\t\\\\t</table>\\\\r\\\\n\\\\t\\\\t\\\\t\\\\t</div>\\\\r\\\\n\\\\t\\\\t\\\\t</section>\\\\r\\\\n\\\\t\\\\t\",\"career_stats\":\"\\\\r\\\\n            <section>\\\\r\\\\n                <h5>Hitting Statistics</h5>\\\\r\\\\n\\\\r\\\\n                <div class=\\\\\"sidearm-table-overflow-on-x-large\\\\\">\\\\r\\\\n                    <table class=\\\\\"sidearm-table highlight-column-hover\\\\\">\\\\r\\\\n                        <caption>Career Hitting Statistics</caption>\\\\r\\\\n                        <thead>\\\\r\\\\n                            <tr>\\\\r\\\\n                                <th scope=\\\\\"col\\\\\" class=\\\\\"text-hide\\\\\">Season</th>\\\\r\\\\n                                <th scope=\\\\\"col\\\\\">AVG</th>\\\\r\\\\n                                <th scope=\\\\\"col\\\\\">GP</th>\\\\r\\\\n                                <th scope=\\\\\"col\\\\\">GS</th>\\\\r\\\\n                                <th scope=\\\\\"col\\\\\">AB</th>\\\\r\\\\n                                <th scope=\\\\\"col\\\\\">R</th>\\\\r\\\\n                                <th scope=\\\\\"col\\\\\">H</th>\\\\r\\\\n                                <th scope=\\\\\"col\\\\\">2B</th>\\\\r\\\\n                                <th scope=\\\\\"col\\\\\">3B</th>\\\\r\\\\n                                <th scope=\\\\\"col\\\\\">HR</th>\\\\r\\\\n                                <th scope=\\\\\"col\\\\\">RBI</th>\\\\r\\\\n                                <th scope=\\\\\"col\\\\\">SLG%</th>\\\\r\\\\n                                <th scope=\\\\\"col\\\\\">BB</th>\\\\r\\\\n                                <th scope=\\\\\"col\\\\\">HBP</th>\\\\r\\\\n                                <th scope=\\\\\"col\\\\\">SO</th>\\\\r\\\\n                                <th scope=\\\\\"col\\\\\">GDP</th>\\\\r\\\\n                                <th scope=\\\\\"col\\\\\">OB%</th>\\\\r\\\\n                                <th scope=\\\\\"col\\\\\">SF</th>\\\\r\\\\n                                <th scope=\\\\\"col\\\\\">SH</th>\\\\r\\\\n                                <th scope=\\\\\"col\\\\\">SB</th>\\\\r\\\\n                                <th scope=\\\\\"col\\\\\">PO</th>\\\\r\\\\n                                <th scope=\\\\\"col\\\\\">A</th>\\\\r\\\\n                                <th scope=\\\\\"col\\\\\">E</th>\\\\r\\\\n                                <th scope=\\\\\"col\\\\\">FLD%</th>\\\\r\\\\n                            </tr>\\\\r\\\\n                        </thead>\\\\r\\\\n                        <tbody>\\\\r\\\\n                            \\\\r\\\\n                                <tr>\\\\r\\\\n                                    <th scope=\\\\\"row\\\\\">2017</th>\\\\r\\\\n                                    <td class=\\\\\"text-center\\\\\">.000</td>\\\\r\\\\n                                    <td class=\\\\\"text-center\\\\\">1</td>\\\\r\\\\n                                    <td class=\\\\\"text-center\\\\\">0</td>\\\\r\\\\n                                    <td class=\\\\\"text-center\\\\\">1</td>\\\\r\\\\n                                    <td class=\\\\\"text-center\\\\\">0</td>\\\\r\\\\n                                    <td class=\\\\\"text-center\\\\\">0</td>\\\\r\\\\n                                    <td class=\\\\\"text-center\\\\\">0</td>\\\\r\\\\n                                    <td class=\\\\\"text-center\\\\\">0</td>\\\\r\\\\n                                    <td class=\\\\\"text-center\\\\\">0</td>\\\\r\\\\n                                    <td class=\\\\\"text-center\\\\\">0</td>\\\\r\\\\n                                    <td class=\\\\\"text-center\\\\\">.000</td>\\\\r\\\\n                                    <td class=\\\\\"text-center\\\\\">0</td>\\\\r\\\\n                                    <td class=\\\\\"text-center\\\\\">0</td>\\\\r\\\\n                                    <td class=\\\\\"text-center\\\\\">0</td>\\\\r\\\\n                                    <td class=\\\\\"text-center\\\\\">0</td>\\\\r\\\\n                                    <td class=\\\\\"text-center\\\\\">.000</td>\\\\r\\\\n                                    <td class=\\\\\"text-center\\\\\">0</td>\\\\r\\\\n                                    <td class=\\\\\"text-center\\\\\">0</td>\\\\r\\\\n                                    <td class=\\\\\"text-center\\\\\">0</td>\\\\r\\\\n                                    <td class=\\\\\"text-center\\\\\">0</td>\\\\r\\\\n                                    <td class=\\\\\"text-center\\\\\">0</td>\\\\r\\\\n                                    <td class=\\\\\"text-center\\\\\">0</td>\\\\r\\\\n                                    <td class=\\\\\"text-center\\\\\">.000</td>\\\\r\\\\n                                </tr>\\\\r\\\\n                            \\\\r\\\\n                        </tbody>\\\\r\\\\n                        <tfoot>\\\\r\\\\n                            <tr>\\\\r\\\\n                                <th scope=\\\\\"row\\\\\">Total</th>\\\\r\\\\n                                <td class=\\\\\"text-center\\\\\">.000</td>\\\\r\\\\n                                <td class=\\\\\"text-center\\\\\">1</td>\\\\r\\\\n                                <td class=\\\\\"text-center\\\\\">0</td>\\\\r\\\\n                                <td class=\\\\\"text-center\\\\\">1</td>\\\\r\\\\n                                <td class=\\\\\"text-center\\\\\">0</td>\\\\r\\\\n                                <td class=\\\\\"text-center\\\\\">0</td>\\\\r\\\\n                                <td class=\\\\\"text-center\\\\\">0</td>\\\\r\\\\n                                <td class=\\\\\"text-center\\\\\">0</td>\\\\r\\\\n                                <td class=\\\\\"text-center\\\\\">0</td>\\\\r\\\\n                                <td class=\\\\\"text-center\\\\\">0</td>\\\\r\\\\n                                <td class=\\\\\"text-center\\\\\">.000</td>\\\\r\\\\n                                <td class=\\\\\"text-center\\\\\">0</td>\\\\r\\\\n                                <td class=\\\\\"text-center\\\\\">0</td>\\\\r\\\\n                                <td class=\\\\\"text-center\\\\\">0</td>\\\\r\\\\n                                <td class=\\\\\"text-center\\\\\">0</td>\\\\r\\\\n                                <td class=\\\\\"text-center\\\\\">.000</td>\\\\r\\\\n                                <td class=\\\\\"text-center\\\\\">0</td>\\\\r\\\\n                                <td class=\\\\\"text-center\\\\\">0</td>\\\\r\\\\n                                <td class=\\\\\"text-center\\\\\">0</td>\\\\r\\\\n                                <td class=\\\\\"text-center\\\\\">0</td>\\\\r\\\\n                                <td class=\\\\\"text-center\\\\\">0</td>\\\\r\\\\n                                <td class=\\\\\"text-center\\\\\">0</td>\\\\r\\\\n                                <td class=\\\\\"text-center\\\\\">.000</td>\\\\r\\\\n                            </tr>\\\\r\\\\n                        </tfoot>\\\\r\\\\n                    </table>    \\\\r\\\\n                </div>\\\\r\\\\n            </section>\\\\r\\\\n        \",\"gamehigh_stats\":\"\\\\r\\\\n    <section>\\\\r\\\\n        <h5>Season Highs</h5>\\\\r\\\\n        \\\\t\\\\t\\\\t                 \\\\r\\\\n        <table class=\\\\\"sidearm-table\\\\\">\\\\r\\\\n            <caption class=\\\\\"hide\\\\\">Season Highs (Hitting)</caption>\\\\r\\\\n            <thead>\\\\r\\\\n                <tr>\\\\r\\\\n                    <th class=\\\\\"text-hide\\\\\" scope=\\\\\"col\\\\\">Statistic</th>\\\\r\\\\n                    <th class=\\\\\"text-left\\\\\" scope=\\\\\"col\\\\\">Value</th>\\\\r\\\\n                    <th class=\\\\\"text-left\\\\\" scope=\\\\\"col\\\\\">Opponent</th>\\\\r\\\\n                </tr>\\\\r\\\\n            </thead>\\\\r\\\\n            <tbody>\\\\r\\\\n                                                \\\\r\\\\n                    <tr>\\\\r\\\\n                        <td>Hits</td>\\\\r\\\\n                        <td>0</td>\\\\r\\\\n                        <td>vs. <a href=\\'boxscore.aspx?id=9228&path=baseball\\' aria-label=\\'Winthrop on 2/28/2017\\'>Winthrop</a></td>\\\\r\\\\n                    </tr>\\\\r\\\\n                    <tr>\\\\r\\\\n                        <td>Doubles</td>\\\\r\\\\n                        <td>0</td>\\\\r\\\\n                        <td>vs. <a href=\\'boxscore.aspx?id=9228&path=baseball\\' aria-label=\\'Winthrop on 2/28/2017\\'>Winthrop</a></td>\\\\r\\\\n                    </tr>\\\\r\\\\n                    <tr>\\\\r\\\\n                        <td>Triples</td>\\\\r\\\\n                        <td>0</td>\\\\r\\\\n                        <td>vs. <a href=\\'boxscore.aspx?id=9228&path=baseball\\' aria-label=\\'Winthrop on 2/28/2017\\'>Winthrop</a></td>\\\\r\\\\n                    </tr>\\\\r\\\\n                    <tr>\\\\r\\\\n                        <td>Home Runs</td>\\\\r\\\\n                        <td>0</td>\\\\r\\\\n                        <td>vs. <a href=\\'boxscore.aspx?id=9228&path=baseball\\' aria-label=\\'Winthrop on 2/28/2017\\'>Winthrop</a></td>\\\\r\\\\n                    </tr>\\\\r\\\\n                    <tr>\\\\r\\\\n                        <td>Runs Scored</td>\\\\r\\\\n                        <td>0</td>\\\\r\\\\n                        <td>vs. <a href=\\'boxscore.aspx?id=9228&path=baseball\\' aria-label=\\'Winthrop on 2/28/2017\\'>Winthrop</a></td>\\\\r\\\\n                    </tr>\\\\r\\\\n                    <tr>\\\\r\\\\n                        <td>Runs Batted In</td>\\\\r\\\\n                        <td>0</td>\\\\r\\\\n                        <td>vs. <a href=\\'boxscore.aspx?id=9228&path=baseball\\' aria-label=\\'Winthrop on 2/28/2017\\'>Winthrop</a></td>\\\\r\\\\n                    </tr>\\\\r\\\\n                    <tr>\\\\r\\\\n                        <td>Bases Stolen</td>\\\\r\\\\n                        <td>0</td>\\\\r\\\\n                        <td>vs. <a href=\\'boxscore.aspx?id=9228&path=baseball\\' aria-label=\\'Winthrop on 2/28/2017\\'>Winthrop</a></td>\\\\r\\\\n                    </tr>\\\\r\\\\n                    <tr>\\\\r\\\\n                        <td>Assists</td>\\\\r\\\\n                        <td>0</td>\\\\r\\\\n                        <td>vs. <a href=\\'boxscore.aspx?id=9228&path=baseball\\' aria-label=\\'Winthrop on 2/28/2017\\'>Winthrop</a></td>\\\\r\\\\n                    </tr>\\\\r\\\\n                    <tr>\\\\r\\\\n                        <td>Putouts</td>\\\\r\\\\n                        <td>0</td>\\\\r\\\\n                        <td>vs. <a href=\\'boxscore.aspx?id=9228&path=baseball\\' aria-label=\\'Winthrop on 2/28/2017\\'>Winthrop</a></td>\\\\r\\\\n                    </tr>\\\\r\\\\n                                       \\\\r\\\\n            </tbody>\\\\r\\\\n        </table>  \\\\r\\\\n\\\\t</section>\\\\t\\\\t\\\\t\\\\t\\\\t\\\\r\\\\n\"}'"
      ]
     },
     "execution_count": 44,
     "metadata": {},
     "output_type": "execute_result"
    }
   ],
   "source": [
    "resp.content"
   ]
  },
  {
   "cell_type": "code",
   "execution_count": 45,
   "metadata": {},
   "outputs": [],
   "source": [
    "html = json.loads(resp.content.decode(\"utf-8\"))[\"current_stats\"]"
   ]
  },
  {
   "cell_type": "code",
   "execution_count": 46,
   "metadata": {},
   "outputs": [],
   "source": [
    "sel = scrapy.Selector(text=html)"
   ]
  },
  {
   "cell_type": "code",
   "execution_count": 47,
   "metadata": {},
   "outputs": [
    {
     "data": {
      "text/plain": [
       "<Selector xpath=None data='<html><body><section>\\r\\n\\t\\t\\t\\t<h5>Hitting S'>"
      ]
     },
     "execution_count": 47,
     "metadata": {},
     "output_type": "execute_result"
    }
   ],
   "source": [
    "sel"
   ]
  },
  {
   "cell_type": "code",
   "execution_count": 48,
   "metadata": {},
   "outputs": [],
   "source": [
    "# That looks better!"
   ]
  }
 ],
 "metadata": {
  "kernelspec": {
   "display_name": "Python 3",
   "language": "python",
   "name": "python3"
  },
  "language_info": {
   "codemirror_mode": {
    "name": "ipython",
    "version": 3
   },
   "file_extension": ".py",
   "mimetype": "text/x-python",
   "name": "python",
   "nbconvert_exporter": "python",
   "pygments_lexer": "ipython3",
   "version": "3.6.3"
  }
 },
 "nbformat": 4,
 "nbformat_minor": 2
}
